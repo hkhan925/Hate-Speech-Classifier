{
 "cells": [
  {
   "cell_type": "code",
   "execution_count": 5,
   "metadata": {},
   "outputs": [],
   "source": [
    "import os\n",
    "import numpy as np\n",
    "import pandas as pd\n",
    "import matplotlib.pyplot as plt"
   ]
  },
  {
   "cell_type": "markdown",
   "metadata": {},
   "source": [
    "# Load Datasets"
   ]
  },
  {
   "cell_type": "code",
   "execution_count": 6,
   "metadata": {},
   "outputs": [],
   "source": [
    "def loadCSV(filename):\n",
    "    file = filename\n",
    "    if '.csv' not in filename:\n",
    "        file += '.csv'\n",
    "    data = pd.read_csv(file, encoding = 'ISO-8859-1')\n",
    "    return data"
   ]
  },
  {
   "cell_type": "code",
   "execution_count": 7,
   "metadata": {},
   "outputs": [],
   "source": [
    "d1 = loadCSV('tweetset_1')\n",
    "d2 = loadCSV('tweetset_2')"
   ]
  },
  {
   "cell_type": "code",
   "execution_count": 8,
   "metadata": {},
   "outputs": [],
   "source": [
    "p1 = loadCSV('processed_1')\n",
    "p2 = loadCSV('processed_2')"
   ]
  },
  {
   "cell_type": "markdown",
   "metadata": {},
   "source": [
    "# Standardize Tweetset"
   ]
  },
  {
   "cell_type": "code",
   "execution_count": 9,
   "metadata": {},
   "outputs": [],
   "source": [
    "d1 = d1.rename(columns = {'does_this_tweet_contain_hate_speech':'class',\n",
    "                          'tweet_text':'tweet'})\n",
    "    \n",
    "originalClass = ['The tweet is not offensive',\n",
    "                 'The tweet uses offensive language but not hate speech',\n",
    "                 'The tweet contains hate speech']\n",
    "newClass = [0, 1, 2]\n",
    "\n",
    "d1['class'] = d1['class'].replace(originalClass, newClass)\n",
    "d1 = d1[['tweet', 'class']]"
   ]
  },
  {
   "cell_type": "code",
   "execution_count": 11,
   "metadata": {},
   "outputs": [],
   "source": [
    "originalClass = [0, 1, 2]\n",
    "newClass = [2, 1, 0]\n",
    "d2['class'] = d2['class'].replace(originalClass, newClass)\n",
    "d2 = d2[['tweet', 'class']]"
   ]
  },
  {
   "cell_type": "markdown",
   "metadata": {},
   "source": [
    "# Punctuation Counts"
   ]
  },
  {
   "cell_type": "code",
   "execution_count": 25,
   "metadata": {},
   "outputs": [],
   "source": [
    "def symbolCount(data, symbol, raw = True):\n",
    "    \n",
    "    all_tweets = 0\n",
    "    neutral = 0\n",
    "    offensive = 0\n",
    "    hate = 0\n",
    "    \n",
    "    for index, row in data.iterrows():\n",
    "        tweet = row['tweet']\n",
    "        category = row['class']\n",
    "        \n",
    "        if symbol in tweet:\n",
    "            all_tweets += 1\n",
    "            if category == 0:\n",
    "                neutral += 1\n",
    "            elif category == 1:\n",
    "                offensive += 1\n",
    "            elif category == 2:\n",
    "                hate += 1\n",
    "    \n",
    "    if raw:\n",
    "        return all_tweets, neutral, offensive, hate\n",
    "    else:\n",
    "        return all_tweets, neutral, offensive"
   ]
  },
  {
   "cell_type": "code",
   "execution_count": 37,
   "metadata": {},
   "outputs": [],
   "source": [
    "def iterateCount(dictionary, num):\n",
    "    try:\n",
    "        dictionary[num] += 1\n",
    "    except KeyError:\n",
    "        dictionary[num] = 1"
   ]
  },
  {
   "cell_type": "code",
   "execution_count": 42,
   "metadata": {},
   "outputs": [],
   "source": [
    "def symbolDist(data, symbol, raw = True):\n",
    "    all_tweets = {}\n",
    "    neutral = {}\n",
    "    offensive = {}\n",
    "    hate = {}\n",
    "    \n",
    "    for index, row in data.iterrows():\n",
    "        category = row['class']\n",
    "        instances = row['tweet'].count(symbol)\n",
    "        \n",
    "        iterateCount(all_tweets, instances)\n",
    "        if category == 0:\n",
    "            iterateCount(neutral, instances)\n",
    "        elif category == 1:\n",
    "            iterateCount(offensive, instances)\n",
    "        elif category == 2:\n",
    "            iterateCount(hate, instances)\n",
    "    \n",
    "    if raw:\n",
    "        return all_tweets, neutral, offensive, hate\n",
    "    else:\n",
    "        return all_tweets, neutral, offensive"
   ]
  },
  {
   "cell_type": "code",
   "execution_count": 98,
   "metadata": {},
   "outputs": [],
   "source": [
    "def formatDist(dictionary):\n",
    "    keys = list(dictionary.keys())\n",
    "    keys.sort()\n",
    "    \n",
    "    excess = 0\n",
    "    \n",
    "    x = []\n",
    "    y = []\n",
    "    for k in keys:\n",
    "        if k < 10:\n",
    "            x.append(str(k))\n",
    "            y.append(dictionary[k])\n",
    "        else:\n",
    "            excess += 1\n",
    "            \n",
    "    if excess:\n",
    "        x.append('10+')\n",
    "        y.append(excess)\n",
    "    \n",
    "    return x, y, keys"
   ]
  },
  {
   "cell_type": "code",
   "execution_count": 100,
   "metadata": {},
   "outputs": [],
   "source": [
    "def plotDist(dictionary, symbol, name):\n",
    "    x, y, k = formatDist(dictionary)\n",
    "    plt.bar(x[1:], y[1:], align = 'center', alpha = 0.5)\n",
    "    plt.xlabel('Instances of \"%s\" in a Tweet' % symbol)\n",
    "    plt.ylabel('Number of Tweets')\n",
    "    plt.title('Distribution of \"%s\" Count - %s' % (symbol, name))\n",
    "    plt.show()\n",
    "    \n",
    "    print(\"Instances in Tweet: Number of Tweets\")\n",
    "    for key in k:\n",
    "        print(\"%s: %s\" % (key, dictionary[key]))"
   ]
  },
  {
   "cell_type": "markdown",
   "metadata": {},
   "source": [
    "# '!' in Tweetset # 1"
   ]
  },
  {
   "cell_type": "code",
   "execution_count": 96,
   "metadata": {},
   "outputs": [],
   "source": [
    "a,n,o,h = symbolDist(d1, '!')"
   ]
  },
  {
   "cell_type": "code",
   "execution_count": 101,
   "metadata": {},
   "outputs": [
    {
     "data": {
      "image/png": "[encoded data removed]",
      "text/plain": [
       "<Figure size 432x288 with 1 Axes>"
      ]
     },
     "metadata": {
      "needs_background": "light"
     },
     "output_type": "display_data"
    },
    {
     "name": "stdout",
     "output_type": "stream",
     "text": [
      "Instances in Tweet: Number of Tweets\n",
      "0: 13180\n",
      "1: 823\n",
      "2: 261\n",
      "3: 136\n",
      "4: 51\n",
      "5: 23\n",
      "6: 12\n",
      "7: 5\n",
      "8: 5\n",
      "9: 5\n",
      "10: 2\n",
      "11: 1\n",
      "12: 1\n",
      "13: 1\n",
      "21: 1\n",
      "38: 1\n",
      "63: 1\n"
     ]
    }
   ],
   "source": [
    "plotDist(a, '!', 'Twitter Dataset #1 - All Classes')"
   ]
  }
 ],
 "metadata": {
  "kernelspec": {
   "display_name": "Python 3",
   "language": "python",
   "name": "python3"
  },
  "language_info": {
   "codemirror_mode": {
    "name": "ipython",
    "version": 3
   },
   "file_extension": ".py",
   "mimetype": "text/x-python",
   "name": "python",
   "nbconvert_exporter": "python",
   "pygments_lexer": "ipython3",
   "version": "3.6.0"
  }
 },
 "nbformat": 4,
 "nbformat_minor": 2
}
